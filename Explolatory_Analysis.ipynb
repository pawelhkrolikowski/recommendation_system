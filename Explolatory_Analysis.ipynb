{
 "cells": [
  {
   "cell_type": "markdown",
   "metadata": {},
   "source": [
    "# 1. Simple look at data"
   ]
  },
  {
   "cell_type": "code",
   "execution_count": 1,
   "metadata": {},
   "outputs": [],
   "source": [
    "import pandas as pd\n",
    "from pandas.core.common import SettingWithCopyWarning\n",
    "import warnings\n",
    "import numpy as np\n",
    "import os"
   ]
  },
  {
   "cell_type": "code",
   "execution_count": 2,
   "metadata": {},
   "outputs": [
    {
     "data": {
      "text/html": [
       "<div>\n",
       "<style scoped>\n",
       "    .dataframe tbody tr th:only-of-type {\n",
       "        vertical-align: middle;\n",
       "    }\n",
       "\n",
       "    .dataframe tbody tr th {\n",
       "        vertical-align: top;\n",
       "    }\n",
       "\n",
       "    .dataframe thead th {\n",
       "        text-align: right;\n",
       "    }\n",
       "</style>\n",
       "<table border=\"1\" class=\"dataframe\">\n",
       "  <thead>\n",
       "    <tr style=\"text-align: right;\">\n",
       "      <th></th>\n",
       "      <th>user_id</th>\n",
       "      <th>movie_id</th>\n",
       "      <th>rating</th>\n",
       "      <th>timestamp</th>\n",
       "    </tr>\n",
       "  </thead>\n",
       "  <tbody>\n",
       "    <tr>\n",
       "      <th>count</th>\n",
       "      <td>100000.000000</td>\n",
       "      <td>100000.000000</td>\n",
       "      <td>100000.000000</td>\n",
       "      <td>1.000000e+05</td>\n",
       "    </tr>\n",
       "    <tr>\n",
       "      <th>mean</th>\n",
       "      <td>500.112340</td>\n",
       "      <td>2499.322840</td>\n",
       "      <td>2.996310</td>\n",
       "      <td>1.599995e+09</td>\n",
       "    </tr>\n",
       "    <tr>\n",
       "      <th>std</th>\n",
       "      <td>288.705961</td>\n",
       "      <td>1445.901876</td>\n",
       "      <td>1.412705</td>\n",
       "      <td>5.762080e+07</td>\n",
       "    </tr>\n",
       "    <tr>\n",
       "      <th>min</th>\n",
       "      <td>1.000000</td>\n",
       "      <td>1.000000</td>\n",
       "      <td>1.000000</td>\n",
       "      <td>1.500001e+09</td>\n",
       "    </tr>\n",
       "    <tr>\n",
       "      <th>25%</th>\n",
       "      <td>248.000000</td>\n",
       "      <td>1253.000000</td>\n",
       "      <td>2.000000</td>\n",
       "      <td>1.550361e+09</td>\n",
       "    </tr>\n",
       "    <tr>\n",
       "      <th>50%</th>\n",
       "      <td>500.000000</td>\n",
       "      <td>2499.000000</td>\n",
       "      <td>3.000000</td>\n",
       "      <td>1.599895e+09</td>\n",
       "    </tr>\n",
       "    <tr>\n",
       "      <th>75%</th>\n",
       "      <td>751.000000</td>\n",
       "      <td>3750.000000</td>\n",
       "      <td>4.000000</td>\n",
       "      <td>1.649746e+09</td>\n",
       "    </tr>\n",
       "    <tr>\n",
       "      <th>max</th>\n",
       "      <td>1000.000000</td>\n",
       "      <td>5000.000000</td>\n",
       "      <td>5.000000</td>\n",
       "      <td>1.699999e+09</td>\n",
       "    </tr>\n",
       "  </tbody>\n",
       "</table>\n",
       "</div>"
      ],
      "text/plain": [
       "             user_id       movie_id         rating     timestamp\n",
       "count  100000.000000  100000.000000  100000.000000  1.000000e+05\n",
       "mean      500.112340    2499.322840       2.996310  1.599995e+09\n",
       "std       288.705961    1445.901876       1.412705  5.762080e+07\n",
       "min         1.000000       1.000000       1.000000  1.500001e+09\n",
       "25%       248.000000    1253.000000       2.000000  1.550361e+09\n",
       "50%       500.000000    2499.000000       3.000000  1.599895e+09\n",
       "75%       751.000000    3750.000000       4.000000  1.649746e+09\n",
       "max      1000.000000    5000.000000       5.000000  1.699999e+09"
      ]
     },
     "execution_count": 2,
     "metadata": {},
     "output_type": "execute_result"
    }
   ],
   "source": [
    "raw_data = pd.read_csv(os.getcwd() + \"\\\\input\\\\data.csv\", index_col=0)\n",
    "raw_data.describe()"
   ]
  },
  {
   "cell_type": "code",
   "execution_count": 218,
   "metadata": {},
   "outputs": [],
   "source": [
    "# check duplicate - if user rate the movie twice\n",
    "unique_combination = raw_data[['user_id','movie_id']].drop_duplicates().shape[0]\n",
    "all_combination = raw_data[['user_id','movie_id']].shape[0]\n",
    "\n",
    "if unique_combination != all_combination:\n",
    "    print(\"There are duplicates ! If user rateded one film by [r1,..,rn] then final rating is max([r1,..,rn])\")\n",
    "    # get the higest rating\n",
    "    raw_data = raw_data[['user_id','movie_id','rating']].groupby(by=['user_id','movie_id']).max()\n",
    "    raw_data = raw_data.reset_index(drop=False)"
   ]
  },
  {
   "cell_type": "markdown",
   "metadata": {},
   "source": [
    "# TO DO"
   ]
  },
  {
   "cell_type": "code",
   "execution_count": 204,
   "metadata": {},
   "outputs": [
    {
     "name": "stdout",
     "output_type": "stream",
     "text": [
      "Number of unique users:  1000\n",
      "Number of unique movies:  5000\n",
      "Rating scale:  [1 2 3 4 5]\n"
     ]
    }
   ],
   "source": [
    "print(\"Number of unique users: \", len(raw_data.user_id.unique()))\n",
    "print(\"Number of unique movies: \", len(raw_data.movie_id.unique()))\n",
    "print(\"Rating scale: \", np.sort(raw_data.rating.unique()))"
   ]
  },
  {
   "cell_type": "code",
   "execution_count": 205,
   "metadata": {},
   "outputs": [
    {
     "data": {
      "text/plain": [
       "<matplotlib.axes._subplots.AxesSubplot at 0x1b549deff40>"
      ]
     },
     "execution_count": 205,
     "metadata": {},
     "output_type": "execute_result"
    },
    {
     "data": {
      "image/png": "[encoded data removed]",
      "text/plain": [
       "<Figure size 432x288 with 1 Axes>"
      ]
     },
     "metadata": {
      "needs_background": "light"
     },
     "output_type": "display_data"
    }
   ],
   "source": [
    "# distribution over ratings\n",
    "data = raw_data['rating'].value_counts().sort_index(ascending=True)\n",
    "data.plot(kind='bar',\n",
    "          title = '#ratings distribution')"
   ]
  },
  {
   "cell_type": "markdown",
   "metadata": {},
   "source": [
    "***All ratings are proxy uniformy distributed over scale 1-5.***"
   ]
  },
  {
   "cell_type": "code",
   "execution_count": 206,
   "metadata": {},
   "outputs": [
    {
     "data": {
      "text/plain": [
       "<matplotlib.axes._subplots.AxesSubplot at 0x1b549e07fd0>"
      ]
     },
     "execution_count": 206,
     "metadata": {},
     "output_type": "execute_result"
    },
    {
     "data": {
      "image/png": "[encoded data removed]",
      "text/plain": [
       "<Figure size 432x432 with 1 Axes>"
      ]
     },
     "metadata": {
      "needs_background": "light"
     },
     "output_type": "display_data"
    }
   ],
   "source": [
    "data = raw_data.groupby('movie_id')['rating'].count()\n",
    "max = np.max(data.values)\n",
    "bin = np.arange((max)/10+1)*10\n",
    "data.plot(kind='hist',\n",
    "          bins = bin,\n",
    "          figsize = (6,6),\n",
    "          xticks =bin,\n",
    "          title = 'Ratings distribution by movie')"
   ]
  },
  {
   "cell_type": "markdown",
   "metadata": {},
   "source": [
    "***Most of movies is rated x-times where x is from [10,30] interval. Almost all movies are rated at least by ten users.***"
   ]
  },
  {
   "cell_type": "code",
   "execution_count": 207,
   "metadata": {},
   "outputs": [
    {
     "data": {
      "text/plain": [
       "<matplotlib.axes._subplots.AxesSubplot at 0x1b549df73a0>"
      ]
     },
     "execution_count": 207,
     "metadata": {},
     "output_type": "execute_result"
    },
    {
     "data": {
      "image/png": "[encoded data removed]",
      "text/plain": [
       "<Figure size 432x432 with 1 Axes>"
      ]
     },
     "metadata": {
      "needs_background": "light"
     },
     "output_type": "display_data"
    }
   ],
   "source": [
    "data = raw_data.groupby('user_id')['rating'].count()\n",
    "max = np.max(data.values)\n",
    "bin = np.arange((max)/10+1)*10\n",
    "\n",
    "data.plot(kind='hist',\n",
    "          bins = bin,\n",
    "          figsize = (6,6),\n",
    "          title = 'Ratings distribution by user',)"
   ]
  },
  {
   "cell_type": "markdown",
   "metadata": {},
   "source": [
    "***Most of users rated at least 80 movies.***"
   ]
  },
  {
   "cell_type": "code",
   "execution_count": 181,
   "metadata": {},
   "outputs": [
    {
     "name": "stdout",
     "output_type": "stream",
     "text": [
      "There are duploicates !\n"
     ]
    }
   ],
   "source": [
    "# check duplicate - if user rate the movie twice\n",
    "unique_combination = raw_data[['user_id','movie_id']].drop_duplicates().shape[0]\n",
    "all_combination = raw_data[['user_id','movie_id']].shape[0]\n",
    "\n",
    "if unique_combination != all_combination:\n",
    "    print(\"There are duplicates !\")"
   ]
  },
  {
   "cell_type": "markdown",
   "metadata": {},
   "source": [
    "# 2. Testing Recommendation model"
   ]
  },
  {
   "cell_type": "markdown",
   "metadata": {},
   "source": [
    "***The collabolative filtering algorithm has been implemented with slightly modification. Instead of selecting K-similar users to predict the rating, it selects all users with positive cosine similarity, estimated from normalized user-item matrix. It is due to optimization and simplicity of the code.***\n",
    "\n",
    "***The following section tests prediction of non rated films, based on other similar users rating. If rating prediction is satisfying, then selecting top rated predictions, not previously rated, is considered as resoable recommendations***\n",
    "\n",
    "\n",
    "***source: https://www.youtube.com/watch?v=h9gpufJFF-0&t=732s***"
   ]
  },
  {
   "cell_type": "code",
   "execution_count": 209,
   "metadata": {},
   "outputs": [],
   "source": [
    "from module.recommendation_system import RecommendationSystem "
   ]
  },
  {
   "cell_type": "markdown",
   "metadata": {},
   "source": [
    "***Load data and split into train, test sets:***"
   ]
  },
  {
   "cell_type": "code",
   "execution_count": 210,
   "metadata": {},
   "outputs": [],
   "source": [
    "#disable warnings\n",
    "warnings.simplefilter(action=\"ignore\", category=SettingWithCopyWarning)\n",
    "\n",
    "# load data\n",
    "raw_data = pd.read_csv(os.getcwd() + \"\\\\input\\\\data.csv\", index_col=0)\n",
    "\n",
    "# create a train and test sets:\n",
    "msk = np.random.rand(len(raw_data)) < 0.9\n",
    "train = raw_data[msk]\n",
    "test = raw_data[~msk]\n",
    "\n",
    "# save train  for loading in our recommender system\n",
    "train.to_csv(os.getcwd() + \"\\\\input\\\\data_train.csv\")"
   ]
  },
  {
   "cell_type": "markdown",
   "metadata": {},
   "source": [
    "***Run recommendation system on train set:***"
   ]
  },
  {
   "cell_type": "code",
   "execution_count": 211,
   "metadata": {},
   "outputs": [
    {
     "name": "stdout",
     "output_type": "stream",
     "text": [
      "Loading input file ....  data_train\n"
     ]
    }
   ],
   "source": [
    "# run the model on the train set\n",
    "from module.recommendation_system import RecommendationSystem \n",
    "\n",
    "\n",
    "model = RecommendationSystem()\n",
    "model.load_data('data_train')\n",
    "model.user_item()\n",
    "model.norm_user_item()\n",
    "model.user_user_sim()\n",
    "model.predict_missing_ratings()\n"
   ]
  },
  {
   "cell_type": "markdown",
   "metadata": {},
   "source": [
    "***Validate predictions. Firstly, ensure if pivots on train data is the same as orginal pivot 1000 users x 5000 movies***"
   ]
  },
  {
   "cell_type": "code",
   "execution_count": 212,
   "metadata": {},
   "outputs": [
    {
     "name": "stdout",
     "output_type": "stream",
     "text": [
      "(1000, 5000)\n"
     ]
    }
   ],
   "source": [
    "print(model.user_item_predicted.shape)"
   ]
  },
  {
   "cell_type": "markdown",
   "metadata": {},
   "source": [
    "***Then compare DIFF(predicted ratings, ratings) from train dataset. There are a lof of different metrics but looking only on  differences between ratings is more intuitive in our case***"
   ]
  },
  {
   "cell_type": "code",
   "execution_count": 213,
   "metadata": {},
   "outputs": [
    {
     "data": {
      "text/plain": [
       "<matplotlib.axes._subplots.AxesSubplot at 0x1b54a0906d0>"
      ]
     },
     "execution_count": 213,
     "metadata": {},
     "output_type": "execute_result"
    },
    {
     "data": {
      "image/png": "[encoded data removed]",
      "text/plain": [
       "<Figure size 432x288 with 1 Axes>"
      ]
     },
     "metadata": {
      "needs_background": "light"
     },
     "output_type": "display_data"
    }
   ],
   "source": [
    "def f(user,movie):\n",
    "\n",
    "    # users id are from 1 to 1000, indexes from 0 to 999\n",
    "    # movies id are from 1 to 5000, indexes are from 0 to 4999\n",
    "    \n",
    "    return model.user_item_predicted[int(user)-1,int(movie) -1]\n",
    "\n",
    "test['rating_predicted'] = test.apply(lambda x: f(x.user_id, x.movie_id), axis=1)\n",
    "test['diff'] = test['rating'] - test['rating_predicted']\n",
    "# plot abs differences\n",
    "test['diff'].hist()"
   ]
  },
  {
   "cell_type": "code",
   "execution_count": 214,
   "metadata": {},
   "outputs": [
    {
     "data": {
      "text/html": [
       "<div>\n",
       "<style scoped>\n",
       "    .dataframe tbody tr th:only-of-type {\n",
       "        vertical-align: middle;\n",
       "    }\n",
       "\n",
       "    .dataframe tbody tr th {\n",
       "        vertical-align: top;\n",
       "    }\n",
       "\n",
       "    .dataframe thead th {\n",
       "        text-align: right;\n",
       "    }\n",
       "</style>\n",
       "<table border=\"1\" class=\"dataframe\">\n",
       "  <thead>\n",
       "    <tr style=\"text-align: right;\">\n",
       "      <th></th>\n",
       "      <th>diff</th>\n",
       "    </tr>\n",
       "  </thead>\n",
       "  <tbody>\n",
       "    <tr>\n",
       "      <th>count</th>\n",
       "      <td>10051.000000</td>\n",
       "    </tr>\n",
       "    <tr>\n",
       "      <th>mean</th>\n",
       "      <td>0.045175</td>\n",
       "    </tr>\n",
       "    <tr>\n",
       "      <th>std</th>\n",
       "      <td>1.593358</td>\n",
       "    </tr>\n",
       "    <tr>\n",
       "      <th>min</th>\n",
       "      <td>-4.000000</td>\n",
       "    </tr>\n",
       "    <tr>\n",
       "      <th>25%</th>\n",
       "      <td>-1.186330</td>\n",
       "    </tr>\n",
       "    <tr>\n",
       "      <th>50%</th>\n",
       "      <td>0.039949</td>\n",
       "    </tr>\n",
       "    <tr>\n",
       "      <th>75%</th>\n",
       "      <td>1.295830</td>\n",
       "    </tr>\n",
       "    <tr>\n",
       "      <th>max</th>\n",
       "      <td>5.000000</td>\n",
       "    </tr>\n",
       "  </tbody>\n",
       "</table>\n",
       "</div>"
      ],
      "text/plain": [
       "               diff\n",
       "count  10051.000000\n",
       "mean       0.045175\n",
       "std        1.593358\n",
       "min       -4.000000\n",
       "25%       -1.186330\n",
       "50%        0.039949\n",
       "75%        1.295830\n",
       "max        5.000000"
      ]
     },
     "execution_count": 214,
     "metadata": {},
     "output_type": "execute_result"
    }
   ],
   "source": [
    "test[['diff']].describe()"
   ]
  },
  {
   "cell_type": "markdown",
   "metadata": {},
   "source": [
    "***Results are not perfect. Residuals are closely normally distributed with mean around 0 and std 1.6.\n",
    "For 50% of out test datapoints, predicted rating vs actiual rating differs within range [-1.18,1.29], which is quite satisfying.***"
   ]
  },
  {
   "cell_type": "code",
   "execution_count": 215,
   "metadata": {},
   "outputs": [
    {
     "data": {
      "text/plain": [
       "<matplotlib.axes._subplots.AxesSubplot at 0x1b5480d1220>"
      ]
     },
     "execution_count": 215,
     "metadata": {},
     "output_type": "execute_result"
    },
    {
     "data": {
      "image/png": "[encoded data removed]",
      "text/plain": [
       "<Figure size 432x288 with 1 Axes>"
      ]
     },
     "metadata": {
      "needs_background": "light"
     },
     "output_type": "display_data"
    }
   ],
   "source": [
    "averages_pd = pd.DataFrame({\"raw average\" : model.average_user_rating, \"predicted average\" : np.mean(model.user_item_predicted,axis=1)})\n",
    "averages_pd['diff'] = averages_pd['raw average'] - averages_pd['predicted average']\n",
    "# plot abs differences\n",
    "averages_pd['diff'].hist()"
   ]
  },
  {
   "cell_type": "markdown",
   "metadata": {},
   "source": [
    "***The avergare \"taste' of the user, so avergare rating of the movie is quite comparable with the predicted average***"
   ]
  }
 ],
 "metadata": {
  "kernelspec": {
   "display_name": "Python 3",
   "language": "python",
   "name": "python3"
  },
  "language_info": {
   "codemirror_mode": {
    "name": "ipython",
    "version": 3
   },
   "file_extension": ".py",
   "mimetype": "text/x-python",
   "name": "python",
   "nbconvert_exporter": "python",
   "pygments_lexer": "ipython3",
   "version": "3.8.3"
  }
 },
 "nbformat": 4,
 "nbformat_minor": 4
}
